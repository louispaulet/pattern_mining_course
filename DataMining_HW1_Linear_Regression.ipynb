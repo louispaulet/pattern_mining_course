{
  "nbformat": 4,
  "nbformat_minor": 0,
  "metadata": {
    "colab": {
      "name": "DataMining HW1 Linear Regression.ipynb",
      "provenance": [],
      "collapsed_sections": [],
      "authorship_tag": "ABX9TyMgC3ugCes60iMmjWsGC95H",
      "include_colab_link": true
    },
    "kernelspec": {
      "name": "python3",
      "display_name": "Python 3"
    }
  },
  "cells": [
    {
      "cell_type": "markdown",
      "metadata": {
        "id": "view-in-github",
        "colab_type": "text"
      },
      "source": [
        "<a href=\"https://colab.research.google.com/github/louispaulet/pattern_mining_course/blob/main/DataMining_HW1_Linear_Regression.ipynb\" target=\"_parent\"><img src=\"https://colab.research.google.com/assets/colab-badge.svg\" alt=\"Open In Colab\"/></a>"
      ]
    },
    {
      "cell_type": "markdown",
      "metadata": {
        "id": "MpT1Rm_iA3Co"
      },
      "source": [
        "First we load the libraries we will need for reading and formatting the input data (numpy for the matrix structure, train_test_split from sklearn to split the data into test and training sets). \n",
        "Then we load the linear model to perform the linear regression algorithm. We wil also need some validation libraries to perform validation (like R² and MSE) "
      ]
    },
    {
      "cell_type": "code",
      "metadata": {
        "id": "DLVBT5zN1s-m"
      },
      "source": [
        "import numpy as np\n",
        "import matplotlib.pyplot as plt\n",
        "from sklearn.model_selection import train_test_split\n",
        "from sklearn import linear_model\n",
        "from sklearn.metrics import mean_squared_error, r2_score"
      ],
      "execution_count": null,
      "outputs": []
    },
    {
      "cell_type": "markdown",
      "metadata": {
        "id": "Nx4pjCNN3scL"
      },
      "source": [
        "We then load the data. This dataset comes from the linear regression exercise from the \"Classification and Representation Learning\" course.\n",
        "(From here  : http://extradoc.univ-nantes.fr/mod/resource/view.php?id=54906 )"
      ]
    },
    {
      "cell_type": "code",
      "metadata": {
        "id": "EgCTcB3B4H-d"
      },
      "source": [
        "#load the data set\n",
        "data = np.loadtxt('polynome.data')\n",
        "\n",
        "X = data[:, 0: -1]\n",
        "Y = data[:, -1]"
      ],
      "execution_count": null,
      "outputs": []
    },
    {
      "cell_type": "markdown",
      "metadata": {
        "id": "WPF5HSgY47cz"
      },
      "source": [
        "We then split the data into a training and testing dataset"
      ]
    },
    {
      "cell_type": "code",
      "metadata": {
        "id": "E-Efv1Wy43bd"
      },
      "source": [
        "X_train, X_test, y_train, y_test = train_test_split(X, Y, test_size=0.33)\n",
        "\n"
      ],
      "execution_count": null,
      "outputs": []
    },
    {
      "cell_type": "markdown",
      "metadata": {
        "id": "YE9IcsWr5LYa"
      },
      "source": [
        "We load the model \"LinearRegression\" and fit the hypothesis with the training data.\n",
        "We then display some predictions."
      ]
    },
    {
      "cell_type": "code",
      "metadata": {
        "id": "KTbQxv8E5LpE",
        "colab": {
          "base_uri": "https://localhost:8080/",
          "height": 50
        },
        "outputId": "80f90387-ab9c-492f-8ec6-d7f3f66dade4"
      },
      "source": [
        "# Create linear regression object\n",
        "regr = linear_model.LinearRegression()\n",
        "\n",
        "# Train the model using the training sets\n",
        "regr.fit(X_train, y_train)\n",
        "\n",
        "# Make predictions using the testing set\n",
        "y_pred = regr.predict(X_test)\n",
        "y_pred"
      ],
      "execution_count": null,
      "outputs": [
        {
          "output_type": "execute_result",
          "data": {
            "text/plain": [
              "array([0.42947684, 0.11003986, 0.20873147, 0.52167479, 0.55107224,\n",
              "       0.00764781])"
            ]
          },
          "metadata": {
            "tags": []
          },
          "execution_count": 77
        }
      ]
    },
    {
      "cell_type": "code",
      "metadata": {
        "id": "YlhFn1xq5kha",
        "colab": {
          "base_uri": "https://localhost:8080/",
          "height": 84
        },
        "outputId": "198335f4-4756-48cf-8b64-aa6721de70cb"
      },
      "source": [
        "# Print the hypothesis coefficients\n",
        "print('Coefficients: \\n', regr.coef_)\n",
        "# The mean squared error\n",
        "print('Mean squared error: %.2f'\n",
        "      % mean_squared_error(y_test, y_pred))\n",
        "# The coefficient of determination: 1 is perfect prediction\n",
        "print('Coefficient of determination: %.2f'\n",
        "      % r2_score(y_test, y_pred))"
      ],
      "execution_count": null,
      "outputs": [
        {
          "output_type": "stream",
          "text": [
            "Coefficients: \n",
            " [-0.86077017]\n",
            "Mean squared error: 0.02\n",
            "Coefficient of determination: 0.84\n"
          ],
          "name": "stdout"
        }
      ]
    },
    {
      "cell_type": "markdown",
      "metadata": {
        "id": "owhKsxqG58vQ"
      },
      "source": [
        "We can plot the data : red dots are the training set, black dots are the testing set, and the blue line is our hypothesis.\n",
        "The simple linear regression model is not complex enough to predict new points with accuracy, we should use a polynomial regression."
      ]
    },
    {
      "cell_type": "code",
      "metadata": {
        "id": "mWpRGwCI584S",
        "colab": {
          "base_uri": "https://localhost:8080/",
          "height": 252
        },
        "outputId": "9b84efa5-fe1f-4edd-989f-8dbbdc6ed0f8"
      },
      "source": [
        "# Plot outputs\n",
        "X_test, y_test\n",
        "\n",
        "plt.scatter(X_test, y_test,  color='black')\n",
        "plt.scatter(X_train, y_train,  color='red')\n",
        "plt.plot(X_test, y_pred, color='blue', linewidth=3)\n",
        "\n",
        "plt.xticks(())\n",
        "plt.yticks(())\n",
        "\n",
        "plt.show()"
      ],
      "execution_count": null,
      "outputs": [
        {
          "output_type": "display_data",
          "data": {
            "image/png": "[encoded data removed]",
            "text/plain": [
              "<Figure size 432x288 with 1 Axes>"
            ]
          },
          "metadata": {
            "tags": []
          }
        }
      ]
    }
  ]
}